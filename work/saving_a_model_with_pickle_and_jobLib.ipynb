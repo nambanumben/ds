{
 "cells": [
  {
   "metadata": {},
   "cell_type": "code",
   "outputs": [],
   "execution_count": null,
   "source": [
    "import pasdas as pd\n",
    "import numpy as np\n",
    "from sklearn import linear_model"
   ],
   "id": "3446379e5834f01"
  },
  {
   "metadata": {
    "jupyter": {
     "is_executing": true
    }
   },
   "cell_type": "code",
   "source": [
    "df = pd.read_csv('../input/train.csv')\n",
    "df"
   ],
   "id": "9f2ac24607e89dad",
   "outputs": [],
   "execution_count": null
  },
  {
   "metadata": {
    "jupyter": {
     "is_executing": true
    }
   },
   "cell_type": "code",
   "source": [
    "model = linear_model.LinearRegression()\n",
    "model.fit(df[['area']],df.price)"
   ],
   "id": "c0d6af703ffc69f3",
   "outputs": [],
   "execution_count": null
  },
  {
   "metadata": {},
   "cell_type": "code",
   "outputs": [],
   "execution_count": null,
   "source": [
    "model.coef_\n",
    "model.intercept_"
   ],
   "id": "2dc76f956cd52f8a"
  },
  {
   "metadata": {},
   "cell_type": "code",
   "outputs": [],
   "execution_count": null,
   "source": "model.predict(df[['area']])",
   "id": "895c46db1f743d74"
  }
 ],
 "metadata": {},
 "nbformat": 5,
 "nbformat_minor": 9
}
